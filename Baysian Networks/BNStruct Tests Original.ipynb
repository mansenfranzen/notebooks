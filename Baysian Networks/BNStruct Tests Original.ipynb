{
 "cells": [
  {
   "cell_type": "markdown",
   "metadata": {},
   "source": [
    "Testing bnstruct R package. See documentation [here](https://cran.r-project.org/web/packages/bnstruct/vignettes/bnstruct.pdf) and [here](https://cran.r-project.org/web/packages/bnstruct/bnstruct.pdf)."
   ]
  },
  {
   "cell_type": "code",
   "execution_count": 1,
   "metadata": {},
   "outputs": [
    {
     "name": "stderr",
     "output_type": "stream",
     "text": [
      "Loading required package: bitops\n",
      "Loading required package: Matrix\n",
      "Loading required package: igraph\n",
      "\n",
      "Attaching package: ‘igraph’\n",
      "\n",
      "Die folgenden Objekte sind maskiert von ‘package:stats’:\n",
      "\n",
      "    decompose, spectrum\n",
      "\n",
      "Das folgende Objekt ist maskiert ‘package:base’:\n",
      "\n",
      "    union\n",
      "\n"
     ]
    }
   ],
   "source": [
    "library(\"bnstruct\")"
   ]
  },
  {
   "cell_type": "code",
   "execution_count": 2,
   "metadata": {
    "collapsed": true
   },
   "outputs": [],
   "source": [
    "count <- function(x) {\n",
    "    return(length(unique(x)))\n",
    "}\n",
    "\n",
    "quantize <- function(x) {\n",
    "    return(x - min(x) + 1)\n",
    "}"
   ]
  },
  {
   "cell_type": "code",
   "execution_count": 6,
   "metadata": {},
   "outputs": [
    {
     "name": "stderr",
     "output_type": "stream",
     "text": [
      "bnstruct :: Generating bootstrap samples ...\n",
      "bnstruct :: Bootstrap samples generated.\n"
     ]
    }
   ],
   "source": [
    "# Given model:\n",
    "#\n",
    "#    A -> B\n",
    "#    A -> C\n",
    "#    B -> D\n",
    "#    C -> D\n",
    "#\n",
    "\n",
    "SIZE <- 1000\n",
    "\n",
    "A <- round(rnorm(SIZE, 10, 2))\n",
    "B <- round(0.4 * A + rnorm(SIZE, 10, 1))\n",
    "C <- round(0.8 * A + rnorm(SIZE, 10, 1.5))\n",
    "D <- round(0.4 * B + 0.2 * C + rnorm(SIZE, 10, 1))\n",
    "\n",
    "data = cbind(A, B, C, D)\n",
    "data = apply(data, 2, quantize)\n",
    "\n",
    "dataset <- BNDataset(data = as.matrix(data),\n",
    "                     discreteness = rep('D', 4),\n",
    "                     variables = c(\"A\", \"B\", \"C\", \"D\"),\n",
    "                     node.sizes = apply(data, 2, count))\n",
    "\n",
    "dataset_bs <- bootstrap(dataset, num.boots = 1000)"
   ]
  },
  {
   "cell_type": "code",
   "execution_count": 4,
   "metadata": {},
   "outputs": [
    {
     "name": "stderr",
     "output_type": "stream",
     "text": [
      "bnstruct :: learning the structure using SEM ...\n",
      "... bnstruct :: starting EM algorithm ...\n",
      "... ... bnstruct :: learning network parameters ... \n",
      "... ... bnstruct :: parameter learning done.\n",
      "... ... bnstruct :: learning network parameters ... \n",
      "... ... bnstruct :: parameter learning done.\n",
      "... bnstruct :: EM algorithm completed.\n",
      "... bnstruct :: learning the structure using MMHC ...\n",
      "... bnstruct :: learning using MMHC completed.\n",
      "... bnstruct :: learning network parameters ... \n",
      "... bnstruct :: parameter learning done.\n",
      "... bnstruct :: starting EM algorithm ...\n",
      "... ... bnstruct :: learning network parameters ... \n",
      "... ... bnstruct :: parameter learning done.\n",
      "... ... bnstruct :: learning network parameters ... \n",
      "... ... bnstruct :: parameter learning done.\n",
      "... bnstruct :: EM algorithm completed.\n",
      "... bnstruct :: learning the structure using MMHC ...\n",
      "... bnstruct :: learning using MMHC completed.\n",
      "... bnstruct :: learning network parameters ... \n",
      "... bnstruct :: parameter learning done.\n",
      "bnstruct :: learning using SEM completed.\n",
      "bnstruct :: learning network parameters ... \n",
      "bnstruct :: parameter learning done.\n"
     ]
    },
    {
     "data": {
      "text/html": [
       "<table>\n",
       "<tbody>\n",
       "\t<tr><td>0</td><td>1</td><td>1</td><td>0</td></tr>\n",
       "\t<tr><td>0</td><td>0</td><td>0</td><td>1</td></tr>\n",
       "\t<tr><td>0</td><td>0</td><td>0</td><td>0</td></tr>\n",
       "\t<tr><td>0</td><td>0</td><td>0</td><td>0</td></tr>\n",
       "</tbody>\n",
       "</table>\n"
      ],
      "text/latex": [
       "\\begin{tabular}{llll}\n",
       "\t 0 & 1 & 1 & 0\\\\\n",
       "\t 0 & 0 & 0 & 1\\\\\n",
       "\t 0 & 0 & 0 & 0\\\\\n",
       "\t 0 & 0 & 0 & 0\\\\\n",
       "\\end{tabular}\n"
      ],
      "text/markdown": [
       "\n",
       "| 0 | 1 | 1 | 0 | \n",
       "| 0 | 0 | 0 | 1 | \n",
       "| 0 | 0 | 0 | 0 | \n",
       "| 0 | 0 | 0 | 0 | \n",
       "\n",
       "\n"
      ],
      "text/plain": [
       "     [,1] [,2] [,3] [,4]\n",
       "[1,] 0    1    1    0   \n",
       "[2,] 0    0    0    1   \n",
       "[3,] 0    0    0    0   \n",
       "[4,] 0    0    0    0   "
      ]
     },
     "metadata": {},
     "output_type": "display_data"
    },
    {
     "data": {
      "image/png": "[encoded data removed]",
      "text/plain": [
       "plot without title"
      ]
     },
     "metadata": {},
     "output_type": "display_data"
    }
   ],
   "source": [
    "net <- learn.network(dataset, scoring.func = \"BDeu\", algo=\"SEM\")\n",
    "dag(net)\n",
    "plot(net)"
   ]
  },
  {
   "cell_type": "code",
   "execution_count": 7,
   "metadata": {},
   "outputs": [
    {
     "name": "stderr",
     "output_type": "stream",
     "text": [
      "bnstruct :: learning the structure using MMHC ...\n",
      "bnstruct :: learning using MMHC completed.\n"
     ]
    },
    {
     "data": {
      "text/html": [
       "<table>\n",
       "<tbody>\n",
       "\t<tr><td>  0 </td><td> 439</td><td>924 </td><td>   0</td></tr>\n",
       "\t<tr><td>978 </td><td>   0</td><td>  0 </td><td>1000</td></tr>\n",
       "\t<tr><td>999 </td><td>   0</td><td>  0 </td><td>   1</td></tr>\n",
       "\t<tr><td>  0 </td><td>1000</td><td>  3 </td><td>   0</td></tr>\n",
       "</tbody>\n",
       "</table>\n"
      ],
      "text/latex": [
       "\\begin{tabular}{llll}\n",
       "\t   0  &  439 & 924  &    0\\\\\n",
       "\t 978  &    0 &   0  & 1000\\\\\n",
       "\t 999  &    0 &   0  &    1\\\\\n",
       "\t   0  & 1000 &   3  &    0\\\\\n",
       "\\end{tabular}\n"
      ],
      "text/markdown": [
       "\n",
       "|   0  |  439 | 924  |    0 | \n",
       "| 978  |    0 |   0  | 1000 | \n",
       "| 999  |    0 |   0  |    1 | \n",
       "|   0  | 1000 |   3  |    0 | \n",
       "\n",
       "\n"
      ],
      "text/plain": [
       "     [,1] [,2] [,3] [,4]\n",
       "[1,]   0   439 924     0\n",
       "[2,] 978     0   0  1000\n",
       "[3,] 999     0   0     1\n",
       "[4,]   0  1000   3     0"
      ]
     },
     "metadata": {},
     "output_type": "display_data"
    },
    {
     "data": {
      "image/png": "[encoded data removed]",
      "text/plain": [
       "plot without title"
      ]
     },
     "metadata": {},
     "output_type": "display_data"
    }
   ],
   "source": [
    "net <- learn.network(dataset_bs, bootstrap = TRUE)\n",
    "wpdag(net)\n",
    "plot(net, plot.wpdag=T)"
   ]
  },
  {
   "cell_type": "code",
   "execution_count": null,
   "metadata": {
    "collapsed": true
   },
   "outputs": [],
   "source": [
    "dataset <- bootstrap(dataset)\n",
    "net <- learn.network(dataset, bootstrap = TRUE)\n",
    "\n",
    "plot(net)"
   ]
  },
  {
   "cell_type": "code",
   "execution_count": null,
   "metadata": {
    "collapsed": true
   },
   "outputs": [],
   "source": []
  }
 ],
 "metadata": {
  "kernelspec": {
   "display_name": "R",
   "language": "R",
   "name": "ir"
  },
  "language_info": {
   "codemirror_mode": "r",
   "file_extension": ".r",
   "mimetype": "text/x-r-source",
   "name": "R",
   "pygments_lexer": "r",
   "version": "3.2.3"
  }
 },
 "nbformat": 4,
 "nbformat_minor": 2
}
