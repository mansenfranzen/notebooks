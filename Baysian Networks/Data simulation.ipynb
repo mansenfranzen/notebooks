{
 "cells": [
  {
   "cell_type": "code",
   "execution_count": 1,
   "metadata": {
    "collapsed": true
   },
   "outputs": [],
   "source": [
    "import numpy as np\n",
    "import pandas as pd"
   ]
  },
  {
   "cell_type": "code",
   "execution_count": 30,
   "metadata": {},
   "outputs": [],
   "source": [
    "SIZE = 1000\n",
    "\n",
    "A = np.random.normal(5, 1, size=SIZE)\n",
    "B = 0.2*A + np.random.normal(10, 2, size=SIZE)\n",
    "C = 0.5*A + np.random.normal(2, 0.4, size=SIZE)\n",
    "D = 0.6*B + 0.3*C + np.random.normal(1, 0.1, size=SIZE)\n",
    "\n",
    "nodes = [A, B, C, D]\n",
    "\n",
    "data = np.vstack(nodes).T"
   ]
  },
  {
   "cell_type": "code",
   "execution_count": 31,
   "metadata": {
    "collapsed": true
   },
   "outputs": [],
   "source": [
    "meta = [[\"A\", \"B\", \"C\", \"D\"],\n",
    "        [100, 100, 100, 100], \n",
    "        [\"C\", \"C\", \"C\", \"C\"]]"
   ]
  },
  {
   "cell_type": "code",
   "execution_count": 35,
   "metadata": {},
   "outputs": [],
   "source": [
    "pd.DataFrame(data).to_csv(\"simulation.data\", sep=\" \", header=False, index=False)\n",
    "pd.DataFrame(meta).to_csv(\"simulation.header\", sep=\" \", header=False, index=False)"
   ]
  },
  {
   "cell_type": "markdown",
   "metadata": {},
   "source": [
    "![title](model_A.png)"
   ]
  },
  {
   "cell_type": "code",
   "execution_count": null,
   "metadata": {
    "collapsed": true
   },
   "outputs": [],
   "source": []
  }
 ],
 "metadata": {
  "kernelspec": {
   "display_name": "Python 3",
   "language": "python",
   "name": "python3"
  },
  "language_info": {
   "codemirror_mode": {
    "name": "ipython",
    "version": 3
   },
   "file_extension": ".py",
   "mimetype": "text/x-python",
   "name": "python",
   "nbconvert_exporter": "python",
   "pygments_lexer": "ipython3",
   "version": "3.5.2"
  }
 },
 "nbformat": 4,
 "nbformat_minor": 2
}
