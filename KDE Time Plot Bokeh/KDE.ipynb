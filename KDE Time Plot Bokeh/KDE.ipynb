{
 "cells": [
  {
   "cell_type": "code",
   "execution_count": 1,
   "metadata": {
    "collapsed": true
   },
   "outputs": [],
   "source": [
    "import numpy as np\n",
    "import matplotlib.pyplot as plt\n",
    "import scipy.stats as st\n",
    "from math import ceil\n",
    "\n",
    "from bokeh.models import ColumnDataSource\n",
    "from bokeh.io import output_file\n",
    "from bokeh import events\n",
    "from bokeh.plotting import gridplot,figure, show\n",
    "from bokeh.layouts import widgetbox, layout\n",
    "from bokeh.models.widgets import Slider, Button\n",
    "from bokeh.models.callbacks import CustomJS\n",
    "\n",
    "output_file(\"contour_over_time.html\")"
   ]
  },
  {
   "cell_type": "code",
   "execution_count": 2,
   "metadata": {
    "collapsed": false
   },
   "outputs": [],
   "source": [
    "def reduce_evenly(sequence, num):\n",
    "    \"\"\"Get evenly spaced subset from given sequence.\n",
    "    \n",
    "    \"\"\"\n",
    "    \n",
    "    length = float(len(sequence))\n",
    "    \n",
    "    if num > length:\n",
    "        num = int(length)\n",
    "        \n",
    "    return [sequence[int(ceil(i * length / num))] for i in range(num)]\n",
    "\n",
    "\n",
    "def get_contour_data(X, Y, Z, cmap, levels, data_resolution):\n",
    "    \"\"\"Computes countour patches from given X, Y, Z, colormap,\n",
    "    levels and data resolution.\n",
    "    \n",
    "    https://stackoverflow.com/questions/33533047/how-to-make-a-contour-plot-in-python-using-bokeh-or-other-libs\n",
    "    \n",
    "    \"\"\"\n",
    "    \n",
    "    cs = plt.contour(X, Y, Z, levels, cmap=cmap)\n",
    "    xs = []\n",
    "    ys = []\n",
    "    col = []\n",
    "\n",
    "    isolevelid = 0\n",
    "    for isolevel in cs.collections:\n",
    "        isocol = isolevel.get_color()[0]\n",
    "        thecol = 3 * [None]\n",
    "        theiso = str(cs.get_array()[isolevelid])\n",
    "        isolevelid += 1\n",
    "        for i in range(3):\n",
    "            thecol[i] = int(255 * isocol[i])\n",
    "        thecol = '#%02x%02x%02x' % (thecol[0], thecol[1], thecol[2])\n",
    "\n",
    "        for path in isolevel.get_paths():\n",
    "            v = path.vertices\n",
    "            x = v[:, 0]\n",
    "            y = v[:, 1]\n",
    "            xs.append(reduce_evenly(x.tolist(), data_resolution))\n",
    "            ys.append(reduce_evenly(y.tolist(), data_resolution))\n",
    "            col.append(thecol)\n",
    "\n",
    "    return xs, ys, col\n",
    "\n",
    "\n",
    "def compute_kde(x, y, x_bounds, y_bounds, resolution=100j):\n",
    "    \"\"\"Computes KDE values for xx, yy and zz.\n",
    "    \n",
    "    \"\"\"\n",
    "    \n",
    "    xx, yy = np.mgrid[x_bounds[0]:x_bounds[1]:resolution, \n",
    "                      y_bounds[0]:y_bounds[1]:resolution]\n",
    "    \n",
    "    positions = np.vstack([xx.ravel(), yy.ravel()])\n",
    "    values = np.vstack([x, y])\n",
    "    kernel = st.gaussian_kde(values)\n",
    "    zz = np.reshape(kernel(positions).T, xx.shape)\n",
    "\n",
    "    return xx,yy, zz\n",
    "\n",
    "def create_contour_source(x, y, x_bounds, y_bounds, cmap, grid_resolution=50j, \n",
    "                         levels=5, data_resolution=50):\n",
    "    \"\"\"Create contour shaped ColumnDataSource for given x and y values.\n",
    "    \n",
    "    \"\"\"\n",
    "    \n",
    "    ds = {}\n",
    "    \n",
    "    for idx in range(x.shape[1]):\n",
    "        xx, yy, zz = compute_kde(x[:, idx], y[:, idx], x_bounds, y_bounds, grid_resolution)\n",
    "        xs, ys, col = get_contour_data(xx, yy, zz, cmap, levels, data_resolution)\n",
    "        ds[\"xs{}\".format(idx)] = xs\n",
    "        ds[\"ys{}\".format(idx)] = ys\n",
    "        ds[\"col{}\".format(idx)] = col\n",
    "    \n",
    "    return ColumnDataSource(data=ds)\n",
    "\n",
    "\n",
    "def generate_data(cnt, center=(0, 0)):\n",
    "    \"\"\"Generate uniformly distributed dummy data for visualization.\"\"\"\n",
    "    \n",
    "    x, y = [], []\n",
    "    \n",
    "    for _ in range(cnt):\n",
    "        data = np.random.multivariate_normal(center, [[0.8, 0.05], [0.05, 0.7]], 100)\n",
    "        x.append(data[:, 0])\n",
    "        y.append(data[:, 1])\n",
    "\n",
    "    xv = np.vstack(x)\n",
    "    yv = np.vstack(y)\n",
    "    \n",
    "    return xv.T, yv.T"
   ]
  },
  {
   "cell_type": "code",
   "execution_count": 4,
   "metadata": {
    "collapsed": false
   },
   "outputs": [
    {
     "name": "stderr",
     "output_type": "stream",
     "text": [
      "/linux-home/python/envs/ipython/lib/python3.5/site-packages/bokeh/models/sources.py:89: BokehUserWarning: ColumnDataSource's columns must be of the same length\n",
      "  lambda: warnings.warn(\"ColumnDataSource's columns must be of the same length\", BokehUserWarning))\n",
      "/linux-home/python/envs/ipython/lib/python3.5/site-packages/bokeh/models/sources.py:89: BokehUserWarning: ColumnDataSource's columns must be of the same length\n",
      "  lambda: warnings.warn(\"ColumnDataSource's columns must be of the same length\", BokehUserWarning))\n"
     ]
    }
   ],
   "source": [
    "bounds = (-3, 3)\n",
    "\n",
    "xv, yv = generate_data(10)\n",
    "b_sources = create_contour_source(xv, yv, bounds, bounds, \"Blues\")\n",
    "b_source = ColumnDataSource(data=dict(xs=b_sources.data[\"xs0\"], \n",
    "                                      ys=b_sources.data[\"ys0\"], \n",
    "                                      col=b_sources.data[\"col0\"]))\n",
    "\n",
    "xv, yv = generate_data(10, (-1, -1))\n",
    "r_sources = create_contour_source(xv, yv, bounds, bounds, \"Reds\")\n",
    "r_source = ColumnDataSource(data=dict(xs=r_sources.data[\"xs0\"], \n",
    "                                      ys=r_sources.data[\"ys0\"], \n",
    "                                      col=r_sources.data[\"col0\"]))"
   ]
  },
  {
   "cell_type": "code",
   "execution_count": 9,
   "metadata": {
    "collapsed": false
   },
   "outputs": [],
   "source": [
    "cb_slider = CustomJS(args=dict(b_source=b_source, \n",
    "                              b_sources=b_sources,\n",
    "                              r_source=r_source,\n",
    "                              r_sources=r_sources), code=\"\"\"\n",
    "var idx = cb_obj.value - 1;\n",
    "b_source.data[\"xs\"] = b_sources.data[\"xs\" + idx.toString()];\n",
    "b_source.data[\"ys\"] = b_sources.data[\"ys\" + idx.toString()];\n",
    "b_source.data[\"col\"] = b_sources.data[\"col\" + idx.toString()];\n",
    "b_source.trigger('change');\n",
    "\n",
    "r_source.data[\"xs\"] = r_sources.data[\"xs\" + idx.toString()];\n",
    "r_source.data[\"ys\"] = r_sources.data[\"ys\" + idx.toString()];\n",
    "r_source.data[\"col\"] = r_sources.data[\"col\" + idx.toString()];\n",
    "r_source.trigger('change');\n",
    "\"\"\")\n",
    "\n",
    "slider = Slider(start=1, end=10, value=1, step=1, title=\"Time\", callback=cb_slider)\n",
    "\n",
    "cb_button = CustomJS(args=dict(b_source=b_source, \n",
    "                               b_sources=b_sources,\n",
    "                               r_source=r_source,\n",
    "                               r_sources=r_sources,\n",
    "                               slider=slider), code=\"\"\"\n",
    "var idx = slider.value\n",
    "function update() {\n",
    "        b_source.data[\"xs\"] = b_sources.data[\"xs\" + idx.toString()];\n",
    "        b_source.data[\"ys\"] = b_sources.data[\"ys\" + idx.toString()];\n",
    "        b_source.data[\"col\"] = b_sources.data[\"col\" + idx.toString()];\n",
    "        b_source.trigger('change');\n",
    "\n",
    "        r_source.data[\"xs\"] = r_sources.data[\"xs\" + idx.toString()];\n",
    "        r_source.data[\"ys\"] = r_sources.data[\"ys\" + idx.toString()];\n",
    "        r_source.data[\"col\"] = r_sources.data[\"col\" + idx.toString()];\n",
    "        r_source.trigger('change');\n",
    "        idx = idx + 1\n",
    "        slider.value =idx\n",
    "        \n",
    "        if (idx < 10) {\n",
    "            setTimeout(update, 500)\n",
    "        }\n",
    "}\n",
    "\n",
    "update()\n",
    "\"\"\")\n",
    "\n",
    "button = Button(label=\"Iterate over Time\")\n",
    "button.js_on_event(events.ButtonClick, cb_button) "
   ]
  },
  {
   "cell_type": "code",
   "execution_count": 10,
   "metadata": {
    "collapsed": false
   },
   "outputs": [],
   "source": [
    "plot = figure(plot_width=800,plot_height=500, x_range=(-3, 3), y_range=(-3, 3))\n",
    "plot.patches(xs='xs', ys='ys', line_color='col', fill_color=\"col\", fill_alpha=0.2, source=b_source)\n",
    "plot.patches(xs='xs', ys='ys', line_color='col', fill_color=\"col\", fill_alpha=0.2, source=r_source)\n",
    "show(layout([[slider, button], [plot]]))"
   ]
  },
  {
   "cell_type": "code",
   "execution_count": null,
   "metadata": {
    "collapsed": true
   },
   "outputs": [],
   "source": []
  }
 ],
 "metadata": {
  "kernelspec": {
   "display_name": "Python 3",
   "language": "python",
   "name": "python3"
  },
  "language_info": {
   "codemirror_mode": {
    "name": "ipython",
    "version": 3
   },
   "file_extension": ".py",
   "mimetype": "text/x-python",
   "name": "python",
   "nbconvert_exporter": "python",
   "pygments_lexer": "ipython3",
   "version": "3.5.2"
  }
 },
 "nbformat": 4,
 "nbformat_minor": 1
}
