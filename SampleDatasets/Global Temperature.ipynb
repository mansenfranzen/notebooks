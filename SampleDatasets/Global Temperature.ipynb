{
 "cells": [
  {
   "cell_type": "markdown",
   "metadata": {},
   "source": [
    "# Global surface temperature change\n",
    "\n",
    "The following data is based on the Berkeley Earth all land monthly average temperature dataset. Absolute temperatures are provided in addition to normalized temperatures with base period 1951-1980.\n",
    "\n",
    "For more, please refer to the original [website](http://berkeleyearth.org/data/)."
   ]
  },
  {
   "cell_type": "code",
   "execution_count": 3,
   "metadata": {},
   "outputs": [],
   "source": [
    "import pandas as pd\n",
    "import calendar\n",
    "\n",
    "URL = \"http://berkeleyearth.lbl.gov/auto/Global/Complete_TAVG_complete.txt\"\n",
    "COLUMNS = [\"year\", \"month_idx\", \"temp_anomaly\"]\n",
    "MONTH_MAPPING = {idx: abbr for idx, abbr in enumerate(calendar.month_abbr)}\n",
    "BASE_TEMP = { 1: 2.62,   2: 3.23,   3: 5.33,\n",
    "              4: 8.36,   5: 11.37,  6: 13.53,\n",
    "              7: 14.41,  8: 13.93,  9: 12.12,\n",
    "             10: 9.26,  11: 6.12,  12: 3.67}\n",
    "\n",
    "def fetch_global_temperatures(file):\n",
    "    df = pd.read_csv(URL, skiprows=34, header=None, delim_whitespace=True, \n",
    "                     usecols=range(3), names=COLUMNS)\n",
    "    \n",
    "    # get absolute temperature by anomaly + base values\n",
    "    df[\"temp_absolute\"] = df[\"month_idx\"].map(BASE_TEMP) + df[\"temp_anomaly\"]\n",
    "    \n",
    "    # add month names\n",
    "    df[\"month\"] = df[\"month_idx\"].map(MONTH_MAPPING)\n",
    "    \n",
    "    df.to_csv(file, index=False)"
   ]
  }
 ],
 "metadata": {
  "kernelspec": {
   "display_name": "scistack",
   "language": "python",
   "name": "scistack"
  },
  "language_info": {
   "codemirror_mode": {
    "name": "ipython",
    "version": 3
   },
   "file_extension": ".py",
   "mimetype": "text/x-python",
   "name": "python",
   "nbconvert_exporter": "python",
   "pygments_lexer": "ipython3",
   "version": "3.6.2"
  }
 },
 "nbformat": 4,
 "nbformat_minor": 2
}
