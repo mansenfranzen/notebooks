{
 "cells": [
  {
   "cell_type": "markdown",
   "metadata": {},
   "source": [
    "# New York - TLC Trip Record Data\n",
    "\n",
    "The following data is a subset of the NYC taxi dataset which contains the **For-Hire Vehicle (“FHV”)** trip records only. \n",
    "\n",
    "For more, please refer to the original [website](http://www.nyc.gov/html/tlc/html/about/trip_record_data.shtml)."
   ]
  },
  {
   "cell_type": "code",
   "execution_count": null,
   "metadata": {},
   "outputs": [],
   "source": [
    "import pandas as pd\n",
    "\n",
    "URL = \"https://s3.amazonaws.com/nyc-tlc/trip+data/fhv_tripdata_{year}-{month:02}.csv\"\n",
    "COLUMN = \"Pickup_date\"\n",
    "\n",
    "def get_monthly_values(year, month, freq):\n",
    "    \"\"\"Get monthly pickup counts for given year and time interval \n",
    "    frequency.\n",
    "    \n",
    "    \"\"\"\n",
    "    \n",
    "    file = URL.format(year=year, month=month)\n",
    "    \n",
    "    print(\"Loading {}\".format(file))\n",
    "    df = pd.read_csv(file, parse_dates=[COLUMN], usecols=[COLUMN])\n",
    "    size = df.memory_usage(deep=True).sum() / (2**20)\n",
    "    print(\"Finished loading. Total size: {:.2f}\".format(size))\n",
    "    \n",
    "    grouper = pd.Grouper(key=COLUMN, freq=freq)\n",
    "    counts = df.groupby(grouper).size()\n",
    "    \n",
    "    return counts\n",
    "\n",
    "\n",
    "def fetch_nyc_taxi_pickups(year, file, freq=\"1h\"):\n",
    "    \"\"\"Get yearly pickup counts for given time interval frequency\n",
    "    and save as csv.\n",
    "    \n",
    "    \"\"\"\n",
    "    \n",
    "    months = [get_monthly_values(year, x, freq) for x in range(1, 13)]\n",
    "    df = pd.concat(months).to_frame(\"Pickup_Count\")\n",
    "    df.to_csv(file)"
   ]
  }
 ],
 "metadata": {
  "kernelspec": {
   "display_name": "scistack",
   "language": "python",
   "name": "scistack"
  },
  "language_info": {
   "codemirror_mode": {
    "name": "ipython",
    "version": 3
   },
   "file_extension": ".py",
   "mimetype": "text/x-python",
   "name": "python",
   "nbconvert_exporter": "python",
   "pygments_lexer": "ipython3",
   "version": "3.6.2"
  }
 },
 "nbformat": 4,
 "nbformat_minor": 2
}
